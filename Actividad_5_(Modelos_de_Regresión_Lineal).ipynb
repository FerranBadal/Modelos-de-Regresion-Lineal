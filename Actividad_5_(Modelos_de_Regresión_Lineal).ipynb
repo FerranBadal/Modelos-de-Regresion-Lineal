{
  "nbformat": 4,
  "nbformat_minor": 0,
  "metadata": {
    "colab": {
      "provenance": [],
      "include_colab_link": true
    },
    "kernelspec": {
      "name": "python3",
      "display_name": "Python 3"
    },
    "language_info": {
      "name": "python"
    }
  },
  "cells": [
    {
      "cell_type": "markdown",
      "metadata": {
        "id": "view-in-github",
        "colab_type": "text"
      },
      "source": [
        "<a href=\"https://colab.research.google.com/github/FerranBadal/Modelos-de-Regresion-Lineal/blob/main/Actividad_5_(Modelos_de_Regresi%C3%B3n_Lineal).ipynb\" target=\"_parent\"><img src=\"https://colab.research.google.com/assets/colab-badge.svg\" alt=\"Open In Colab\"/></a>"
      ]
    },
    {
      "cell_type": "code",
      "source": [
        "import pandas as pd\n",
        "import numpy as np\n",
        "import matplotlib.pyplot as plt\n",
        "import seaborn as sn"
      ],
      "metadata": {
        "id": "eB7uz1cJJm9S"
      },
      "execution_count": 1,
      "outputs": []
    },
    {
      "cell_type": "code",
      "execution_count": null,
      "metadata": {
        "id": "nXMBM9QoJTLd"
      },
      "outputs": [],
      "source": [
        "#Cargar archivo csv desde equipo\n",
        "from google.colab import files\n",
        "files.upload()"
      ]
    },
    {
      "cell_type": "code",
      "source": [
        "df= pd.read_csv(\"cuentas_credicel.csv\", encoding= 'latin')\n",
        "pd.options.display.max_columns = None\n",
        "df.head(5)"
      ],
      "metadata": {
        "id": "xAEGHdrvJgBs"
      },
      "execution_count": null,
      "outputs": []
    },
    {
      "cell_type": "code",
      "source": [
        "df.info()"
      ],
      "metadata": {
        "id": "C97VusS5oBye"
      },
      "execution_count": null,
      "outputs": []
    },
    {
      "cell_type": "markdown",
      "source": [
        "**Convertir columna plazo**"
      ],
      "metadata": {
        "id": "IjGG7ByU7s2J"
      }
    },
    {
      "cell_type": "code",
      "source": [
        "#Eliminar un signo de una columna\n",
        "df['plazo']=df['plazo'].str.replace('S', '')"
      ],
      "metadata": {
        "id": "z8hOWVLs7mVJ"
      },
      "execution_count": 9,
      "outputs": []
    },
    {
      "cell_type": "code",
      "source": [
        "#Conversión de tipo de dato de columna de tipo Object a int\n",
        "df['plazo']= df['plazo'].astype(int)"
      ],
      "metadata": {
        "id": "vJPdQECr7qqT"
      },
      "execution_count": 10,
      "outputs": []
    },
    {
      "cell_type": "markdown",
      "source": [
        "**Convertir riesgo**"
      ],
      "metadata": {
        "id": "syuFNNNC9XwV"
      }
    },
    {
      "cell_type": "code",
      "source": [
        "#Sustituyo los strings Atraso, Cancelado y Fraude por la constante \"0\"\n",
        "df['riesgo']=df['riesgo'].str.replace('Atraso', '0')\n",
        "df['riesgo']=df['riesgo'].str.replace('Cancelado', '0')\n",
        "df['riesgo']=df['riesgo'].str.replace('Fraude', '0')"
      ],
      "metadata": {
        "id": "m5RY2Kv-73Tu"
      },
      "execution_count": 11,
      "outputs": []
    },
    {
      "cell_type": "code",
      "source": [
        "riesgo_categorias = df.groupby(['riesgo'])['riesgo'].count()\n",
        "riesgo_categorias"
      ],
      "metadata": {
        "id": "UkKRr6KR77Yh",
        "colab": {
          "base_uri": "https://localhost:8080/"
        },
        "outputId": "63ca938c-a6c9-4ae9-ef72-3112252f001b"
      },
      "execution_count": 12,
      "outputs": [
        {
          "output_type": "execute_result",
          "data": {
            "text/plain": [
              "riesgo\n",
              "-0.05    3\n",
              "-0.1     6\n",
              "-0.15    5\n",
              "-0.2     3\n",
              "-0.25    7\n",
              "        ..\n",
              "9.8      3\n",
              "9.85     4\n",
              "9.9      1\n",
              "9.95     5\n",
              "91       1\n",
              "Name: riesgo, Length: 1524, dtype: int64"
            ]
          },
          "metadata": {},
          "execution_count": 12
        }
      ]
    },
    {
      "cell_type": "code",
      "source": [
        "df[\"riesgo\"]= df[\"riesgo\"].fillna(0)"
      ],
      "metadata": {
        "id": "54zhj0-e7-Ed"
      },
      "execution_count": 16,
      "outputs": []
    },
    {
      "cell_type": "code",
      "source": [
        "df[\"porc_enganche\"]=df[\"porc_enganche\"].fillna(method=\"ffill\")"
      ],
      "metadata": {
        "id": "vzXPOzIN_LuA"
      },
      "execution_count": 17,
      "outputs": []
    },
    {
      "cell_type": "code",
      "source": [
        "df.isnull().sum()"
      ],
      "metadata": {
        "id": "I6wFHhbcaydv"
      },
      "execution_count": null,
      "outputs": []
    },
    {
      "cell_type": "code",
      "source": [
        "#Declaramos las variables dependientes e independientes para la regresión lineal\n",
        "Vars_Indep= df[['score_buro']]\n",
        "Var_Dep= df['enganche']\n",
        "#Se define model como la función de regresión lineal\n",
        "from sklearn.linear_model import LinearRegression\n",
        "model= LinearRegression()\n",
        "#Ajustamos el modelo con las variables antes declaradas\n",
        "model.fit(X=Vars_Indep, y=Var_Dep)\n",
        "#Verificamos los coeficientes obtenidos para el modelo ajustado\n",
        "model.__dict__"
      ],
      "metadata": {
        "id": "NGRULsraKt8M"
      },
      "execution_count": null,
      "outputs": []
    },
    {
      "cell_type": "markdown",
      "source": [
        "\n",
        "**1er Modelo Matemático: y=8.30362837x+928.5596445591957**"
      ],
      "metadata": {
        "id": "9D_scvMQOQu4"
      }
    },
    {
      "cell_type": "code",
      "source": [
        "y_pred= model.predict(X=df[[\"score_buro\"]])\n",
        "y_pred"
      ],
      "metadata": {
        "id": "vBGQx2gLgI3-",
        "colab": {
          "base_uri": "https://localhost:8080/"
        },
        "outputId": "71039562-5153-47a2-cdd3-8f6e47638074"
      },
      "execution_count": 20,
      "outputs": [
        {
          "output_type": "execute_result",
          "data": {
            "text/plain": [
              "array([928.55964456, 928.55964456, 928.55964456, ..., 928.55964456,\n",
              "       928.55964456, 928.55964456])"
            ]
          },
          "metadata": {},
          "execution_count": 20
        }
      ]
    },
    {
      "cell_type": "code",
      "source": [
        "coef_Deter=model.score(X=Vars_Indep, y=Var_Dep)\n",
        "coef_Deter"
      ],
      "metadata": {
        "colab": {
          "base_uri": "https://localhost:8080/"
        },
        "id": "3Vfvyqz-pFTL",
        "outputId": "a1f85b93-5ab3-45dd-fe91-367cb750ea68"
      },
      "execution_count": 24,
      "outputs": [
        {
          "output_type": "execute_result",
          "data": {
            "text/plain": [
              "0.006785706027080618"
            ]
          },
          "metadata": {},
          "execution_count": 24
        }
      ]
    },
    {
      "cell_type": "code",
      "source": [
        "coef_Correl=np.sqrt(coef_Deter)\n",
        "coef_Correl"
      ],
      "metadata": {
        "colab": {
          "base_uri": "https://localhost:8080/"
        },
        "id": "CdLJTmkGnnus",
        "outputId": "58ca59e0-9ce2-4a92-c69e-993a2d556bc9"
      },
      "execution_count": 25,
      "outputs": [
        {
          "output_type": "execute_result",
          "data": {
            "text/plain": [
              "0.08237539697677103"
            ]
          },
          "metadata": {},
          "execution_count": 25
        }
      ]
    },
    {
      "cell_type": "code",
      "source": [
        "#Declaramos las variables dependientes e independientes para la regresión lineal\n",
        "Vars_Indep= df[['score_buro']]\n",
        "Var_Dep= df['precio']\n",
        "#Se define model como la función de regresión lineal\n",
        "from sklearn.linear_model import LinearRegression\n",
        "model= LinearRegression()\n",
        "#Ajustamos el modelo con las variables antes declaradas\n",
        "model.fit(X=Vars_Indep, y=Var_Dep)\n",
        "#Verificamos los coeficientes obtenidos para el modelo ajustado\n",
        "model.__dict__"
      ],
      "metadata": {
        "id": "VgL3UxrXnCJy",
        "colab": {
          "base_uri": "https://localhost:8080/"
        },
        "outputId": "f286c6f9-d903-42a1-e8e0-808217fa9b13"
      },
      "execution_count": 26,
      "outputs": [
        {
          "output_type": "execute_result",
          "data": {
            "text/plain": [
              "{'fit_intercept': True,\n",
              " 'copy_X': True,\n",
              " 'n_jobs': None,\n",
              " 'positive': False,\n",
              " 'feature_names_in_': array(['score_buro'], dtype=object),\n",
              " 'n_features_in_': 1,\n",
              " 'coef_': array([-7.11615993]),\n",
              " 'rank_': 1,\n",
              " 'singular_': array([713.01781912]),\n",
              " 'intercept_': 3995.217831233963}"
            ]
          },
          "metadata": {},
          "execution_count": 26
        }
      ]
    },
    {
      "cell_type": "markdown",
      "source": [
        "**2do Modelo Matemático: y= -7.11615993x +3995.217831233963**"
      ],
      "metadata": {
        "id": "poaUWPQgnJO3"
      }
    },
    {
      "cell_type": "code",
      "source": [
        "y_pred= model.predict(X=df[[\"score_buro\"]])\n",
        "y_pred"
      ],
      "metadata": {
        "id": "jEeG-YI4naw-",
        "colab": {
          "base_uri": "https://localhost:8080/"
        },
        "outputId": "c74c56e3-d3e4-4b23-8c00-c6af132e16b1"
      },
      "execution_count": 27,
      "outputs": [
        {
          "output_type": "execute_result",
          "data": {
            "text/plain": [
              "array([3995.21783123, 3995.21783123, 3995.21783123, ..., 3995.21783123,\n",
              "       3995.21783123, 3995.21783123])"
            ]
          },
          "metadata": {},
          "execution_count": 27
        }
      ]
    },
    {
      "cell_type": "code",
      "source": [
        "coef_Deter=model.score(X=Vars_Indep, y=Var_Dep)\n",
        "coef_Deter"
      ],
      "metadata": {
        "colab": {
          "base_uri": "https://localhost:8080/"
        },
        "id": "VDqmKwFjnoix",
        "outputId": "4cf4ab0b-8dbf-487f-a816-9ab72c247583"
      },
      "execution_count": 28,
      "outputs": [
        {
          "output_type": "execute_result",
          "data": {
            "text/plain": [
              "0.0006109088972575671"
            ]
          },
          "metadata": {},
          "execution_count": 28
        }
      ]
    },
    {
      "cell_type": "code",
      "source": [
        "coef_Correl=np.sqrt(coef_Deter)\n",
        "coef_Correl"
      ],
      "metadata": {
        "colab": {
          "base_uri": "https://localhost:8080/"
        },
        "id": "8ZVgl0VZnrxs",
        "outputId": "4e909609-e408-4741-e9c1-d82778b133fa"
      },
      "execution_count": 29,
      "outputs": [
        {
          "output_type": "execute_result",
          "data": {
            "text/plain": [
              "0.02471657130869019"
            ]
          },
          "metadata": {},
          "execution_count": 29
        }
      ]
    },
    {
      "cell_type": "code",
      "source": [
        "#Declaramos las variables dependientes e independientes para la regresión lineal\n",
        "Vars_Indep= df[['score_buro']]\n",
        "Var_Dep= df['costo_total']\n",
        "#Se define model como la función de regresión lineal\n",
        "from sklearn.linear_model import LinearRegression\n",
        "model= LinearRegression()\n",
        "#Ajustamos el modelo con las variables antes declaradas\n",
        "model.fit(X=Vars_Indep, y=Var_Dep)\n",
        "#Verificamos los coeficientes obtenidos para el modelo ajustado\n",
        "model.__dict__"
      ],
      "metadata": {
        "id": "L0t0Azbkn3AG",
        "colab": {
          "base_uri": "https://localhost:8080/"
        },
        "outputId": "cb33e986-4612-4517-f1bf-f6a10cd569a8"
      },
      "execution_count": 30,
      "outputs": [
        {
          "output_type": "execute_result",
          "data": {
            "text/plain": [
              "{'fit_intercept': True,\n",
              " 'copy_X': True,\n",
              " 'n_jobs': None,\n",
              " 'positive': False,\n",
              " 'feature_names_in_': array(['score_buro'], dtype=object),\n",
              " 'n_features_in_': 1,\n",
              " 'coef_': array([-18.95458459]),\n",
              " 'rank_': 1,\n",
              " 'singular_': array([713.01781912]),\n",
              " 'intercept_': 5694.847880533092}"
            ]
          },
          "metadata": {},
          "execution_count": 30
        }
      ]
    },
    {
      "cell_type": "markdown",
      "source": [
        "**3er Modelo Matemático: y=-18.95458459x+5694.847880533092**"
      ],
      "metadata": {
        "id": "OZOUTM4Sn6av"
      }
    },
    {
      "cell_type": "code",
      "source": [
        "y_pred= model.predict(X=df[[\"score_buro\"]])\n",
        "y_pred"
      ],
      "metadata": {
        "id": "XfgHxvu2oLXF",
        "colab": {
          "base_uri": "https://localhost:8080/"
        },
        "outputId": "6e08303d-3c93-44e5-fd9c-e1476f23dac2"
      },
      "execution_count": 31,
      "outputs": [
        {
          "output_type": "execute_result",
          "data": {
            "text/plain": [
              "array([5694.84788053, 5694.84788053, 5694.84788053, ..., 5694.84788053,\n",
              "       5694.84788053, 5694.84788053])"
            ]
          },
          "metadata": {},
          "execution_count": 31
        }
      ]
    },
    {
      "cell_type": "code",
      "source": [
        "coef_Deter=model.score(X=Vars_Indep, y=Var_Dep)\n",
        "coef_Deter"
      ],
      "metadata": {
        "colab": {
          "base_uri": "https://localhost:8080/"
        },
        "id": "cTiv2ht4oOj8",
        "outputId": "d0af5297-7566-4947-c25a-46c0a728dcd5"
      },
      "execution_count": 32,
      "outputs": [
        {
          "output_type": "execute_result",
          "data": {
            "text/plain": [
              "0.001411319050099502"
            ]
          },
          "metadata": {},
          "execution_count": 32
        }
      ]
    },
    {
      "cell_type": "code",
      "source": [
        "coef_Correl=np.sqrt(coef_Deter)\n",
        "coef_Correl"
      ],
      "metadata": {
        "colab": {
          "base_uri": "https://localhost:8080/"
        },
        "id": "VTimQMM5oS2M",
        "outputId": "dd67b12f-8bc2-480c-edd4-742e4acfc4c9"
      },
      "execution_count": 33,
      "outputs": [
        {
          "output_type": "execute_result",
          "data": {
            "text/plain": [
              "0.03756752653688425"
            ]
          },
          "metadata": {},
          "execution_count": 33
        }
      ]
    },
    {
      "cell_type": "code",
      "source": [
        "#Declaramos las variables dependientes e independientes para la regresión lineal\n",
        "Vars_Indep= df[['score_buro']]\n",
        "Var_Dep= df['pagos_realizados']\n",
        "#Se define model como la función de regresión lineal\n",
        "from sklearn.linear_model import LinearRegression\n",
        "model= LinearRegression()\n",
        "#Ajustamos el modelo con las variables antes declaradas\n",
        "model.fit(X=Vars_Indep, y=Var_Dep)\n",
        "#Verificamos los coeficientes obtenidos para el modelo ajustado\n",
        "model.__dict__"
      ],
      "metadata": {
        "id": "6Z3iMF1nocrg",
        "colab": {
          "base_uri": "https://localhost:8080/"
        },
        "outputId": "ede83141-809a-480b-f327-7ce90ce79e61"
      },
      "execution_count": 34,
      "outputs": [
        {
          "output_type": "execute_result",
          "data": {
            "text/plain": [
              "{'fit_intercept': True,\n",
              " 'copy_X': True,\n",
              " 'n_jobs': None,\n",
              " 'positive': False,\n",
              " 'feature_names_in_': array(['score_buro'], dtype=object),\n",
              " 'n_features_in_': 1,\n",
              " 'coef_': array([-0.03282908]),\n",
              " 'rank_': 1,\n",
              " 'singular_': array([713.01781912]),\n",
              " 'intercept_': 10.172388024218485}"
            ]
          },
          "metadata": {},
          "execution_count": 34
        }
      ]
    },
    {
      "cell_type": "markdown",
      "source": [
        "**4to Modelo Matemático: y=-0.03282908x +10.172388024218485**"
      ],
      "metadata": {
        "id": "QH0kJucFooQ5"
      }
    },
    {
      "cell_type": "code",
      "source": [
        "y_pred= model.predict(X=df[[\"score_buro\"]])\n",
        "y_pred"
      ],
      "metadata": {
        "id": "euft4Pnvojld",
        "colab": {
          "base_uri": "https://localhost:8080/"
        },
        "outputId": "a8729572-1093-42ea-ec0d-33f4dc211a48"
      },
      "execution_count": 35,
      "outputs": [
        {
          "output_type": "execute_result",
          "data": {
            "text/plain": [
              "array([10.17238802, 10.17238802, 10.17238802, ..., 10.17238802,\n",
              "       10.17238802, 10.17238802])"
            ]
          },
          "metadata": {},
          "execution_count": 35
        }
      ]
    },
    {
      "cell_type": "code",
      "source": [
        "coef_Deter=model.score(X=Vars_Indep, y=Var_Dep)\n",
        "coef_Deter"
      ],
      "metadata": {
        "colab": {
          "base_uri": "https://localhost:8080/"
        },
        "id": "WDDTRgdyokPK",
        "outputId": "ae54e815-6b49-493f-827f-1985d405cdb5"
      },
      "execution_count": 36,
      "outputs": [
        {
          "output_type": "execute_result",
          "data": {
            "text/plain": [
              "0.0002557069223527719"
            ]
          },
          "metadata": {},
          "execution_count": 36
        }
      ]
    },
    {
      "cell_type": "code",
      "source": [
        "coef_Correl=np.sqrt(coef_Deter)\n",
        "coef_Correl"
      ],
      "metadata": {
        "colab": {
          "base_uri": "https://localhost:8080/"
        },
        "id": "ZJnlD0y-olsz",
        "outputId": "57716925-c88f-4063-e513-a2dd627c4455"
      },
      "execution_count": 37,
      "outputs": [
        {
          "output_type": "execute_result",
          "data": {
            "text/plain": [
              "0.015990838700730238"
            ]
          },
          "metadata": {},
          "execution_count": 37
        }
      ]
    },
    {
      "cell_type": "code",
      "source": [
        "#Declaramos las variables dependientes e independientes para la regresión lineal\n",
        "Vars_Indep= df[['score_buro']]\n",
        "Var_Dep= df['riesgo']\n",
        "#Se define model como la función de regresión lineal\n",
        "from sklearn.linear_model import LinearRegression\n",
        "model= LinearRegression()\n",
        "#Ajustamos el modelo con las variables antes declaradas\n",
        "model.fit(X=Vars_Indep, y=Var_Dep)\n",
        "#Verificamos los coeficientes obtenidos para el modelo ajustado\n",
        "model.__dict__"
      ],
      "metadata": {
        "id": "4QFzh4nOo5NZ",
        "colab": {
          "base_uri": "https://localhost:8080/"
        },
        "outputId": "289f9c65-731b-4861-a8cc-65096006904e"
      },
      "execution_count": 38,
      "outputs": [
        {
          "output_type": "execute_result",
          "data": {
            "text/plain": [
              "{'fit_intercept': True,\n",
              " 'copy_X': True,\n",
              " 'n_jobs': None,\n",
              " 'positive': False,\n",
              " 'feature_names_in_': array(['score_buro'], dtype=object),\n",
              " 'n_features_in_': 1,\n",
              " 'coef_': array([0.02461996]),\n",
              " 'rank_': 1,\n",
              " 'singular_': array([713.01781912]),\n",
              " 'intercept_': 2.1603808207395727}"
            ]
          },
          "metadata": {},
          "execution_count": 38
        }
      ]
    },
    {
      "cell_type": "markdown",
      "source": [
        "**5to Modelo Matemático: y=0.02461996x+2.1603808207395727**"
      ],
      "metadata": {
        "id": "Zn5kCoEntEOt"
      }
    },
    {
      "cell_type": "code",
      "source": [
        "y_pred= model.predict(X=df[[\"score_buro\"]])\n",
        "y_pred"
      ],
      "metadata": {
        "id": "ifymacNAsreT",
        "colab": {
          "base_uri": "https://localhost:8080/"
        },
        "outputId": "d646aa43-e956-428f-e3e4-f8eea3c0f51b"
      },
      "execution_count": 39,
      "outputs": [
        {
          "output_type": "execute_result",
          "data": {
            "text/plain": [
              "array([2.16038082, 2.16038082, 2.16038082, ..., 2.16038082, 2.16038082,\n",
              "       2.16038082])"
            ]
          },
          "metadata": {},
          "execution_count": 39
        }
      ]
    },
    {
      "cell_type": "code",
      "source": [
        "coef_Deter=model.score(X=Vars_Indep, y=Var_Dep)\n",
        "coef_Deter"
      ],
      "metadata": {
        "id": "3GaOcfA8sthd",
        "colab": {
          "base_uri": "https://localhost:8080/"
        },
        "outputId": "bcba0c9a-5ccb-41ad-820e-41164e6dcd3c"
      },
      "execution_count": 40,
      "outputs": [
        {
          "output_type": "execute_result",
          "data": {
            "text/plain": [
              "7.007499711020326e-05"
            ]
          },
          "metadata": {},
          "execution_count": 40
        }
      ]
    },
    {
      "cell_type": "code",
      "source": [
        "coef_Correl=np.sqrt(coef_Deter)\n",
        "coef_Correl"
      ],
      "metadata": {
        "id": "wcypiX3lsu5k",
        "colab": {
          "base_uri": "https://localhost:8080/"
        },
        "outputId": "d5ba8ebb-aeea-4b22-b8b8-b7de43bffc45"
      },
      "execution_count": 41,
      "outputs": [
        {
          "output_type": "execute_result",
          "data": {
            "text/plain": [
              "0.00837108100009809"
            ]
          },
          "metadata": {},
          "execution_count": 41
        }
      ]
    },
    {
      "cell_type": "code",
      "source": [
        "#Declaramos las variables dependientes e independientes para la regresión lineal\n",
        "Vars_Indep= df[['score_buro']]\n",
        "Var_Dep= df['plazo']\n",
        "#Se define model como la función de regresión lineal\n",
        "from sklearn.linear_model import LinearRegression\n",
        "model= LinearRegression()\n",
        "#Ajustamos el modelo con las variables antes declaradas\n",
        "model.fit(X=Vars_Indep, y=Var_Dep)\n",
        "#Verificamos los coeficientes obtenidos para el modelo ajustado\n",
        "model.__dict__"
      ],
      "metadata": {
        "id": "-5Ma9s6BsxjZ",
        "colab": {
          "base_uri": "https://localhost:8080/"
        },
        "outputId": "e44f33da-7001-4e77-ecc6-55f394d9bc78"
      },
      "execution_count": 42,
      "outputs": [
        {
          "output_type": "execute_result",
          "data": {
            "text/plain": [
              "{'fit_intercept': True,\n",
              " 'copy_X': True,\n",
              " 'n_jobs': None,\n",
              " 'positive': False,\n",
              " 'feature_names_in_': array(['score_buro'], dtype=object),\n",
              " 'n_features_in_': 1,\n",
              " 'coef_': array([0.06482148]),\n",
              " 'rank_': 1,\n",
              " 'singular_': array([713.01781912]),\n",
              " 'intercept_': 25.926221898296898}"
            ]
          },
          "metadata": {},
          "execution_count": 42
        }
      ]
    },
    {
      "cell_type": "markdown",
      "source": [
        "**6to Modelo Matemático: y=0.06482148x+25.926221898296898**"
      ],
      "metadata": {
        "id": "zlJcg62ds5Hm"
      }
    },
    {
      "cell_type": "code",
      "source": [
        "y_pred= model.predict(X=df[[\"score_buro\"]])\n",
        "y_pred"
      ],
      "metadata": {
        "id": "xGEalM6Fs1LO",
        "colab": {
          "base_uri": "https://localhost:8080/"
        },
        "outputId": "e35a9925-53f1-4e79-eae3-e74662b56bd4"
      },
      "execution_count": 44,
      "outputs": [
        {
          "output_type": "execute_result",
          "data": {
            "text/plain": [
              "array([25.9262219, 25.9262219, 25.9262219, ..., 25.9262219, 25.9262219,\n",
              "       25.9262219])"
            ]
          },
          "metadata": {},
          "execution_count": 44
        }
      ]
    },
    {
      "cell_type": "code",
      "source": [
        "coef_Deter=model.score(X=Vars_Indep, y=Var_Dep)\n",
        "coef_Deter"
      ],
      "metadata": {
        "id": "0TYxgGYws2d1",
        "colab": {
          "base_uri": "https://localhost:8080/"
        },
        "outputId": "a4449bc8-18fd-4615-c364-f80696ca2c7b"
      },
      "execution_count": 45,
      "outputs": [
        {
          "output_type": "execute_result",
          "data": {
            "text/plain": [
              "0.0009418250456870725"
            ]
          },
          "metadata": {},
          "execution_count": 45
        }
      ]
    },
    {
      "cell_type": "code",
      "source": [
        "coef_Correl=np.sqrt(coef_Deter)\n",
        "coef_Correl"
      ],
      "metadata": {
        "id": "wOe7cz6ps322",
        "colab": {
          "base_uri": "https://localhost:8080/"
        },
        "outputId": "043bbecc-49c2-43bb-b056-ef832de5d1c6"
      },
      "execution_count": 46,
      "outputs": [
        {
          "output_type": "execute_result",
          "data": {
            "text/plain": [
              "0.030689168214323968"
            ]
          },
          "metadata": {},
          "execution_count": 46
        }
      ]
    },
    {
      "cell_type": "code",
      "source": [
        "#Declaramos las variables dependientes e independientes para la regresión lineal\n",
        "Vars_Indep= df[['score_buro']]\n",
        "Var_Dep= df['monto_financiado']\n",
        "#Se define model como la función de regresión lineal\n",
        "from sklearn.linear_model import LinearRegression\n",
        "model= LinearRegression()\n",
        "#Ajustamos el modelo con las variables antes declaradas\n",
        "model.fit(X=Vars_Indep, y=Var_Dep)\n",
        "#Verificamos los coeficientes obtenidos para el modelo ajustado\n",
        "model.__dict__"
      ],
      "metadata": {
        "id": "A9WXtPritH8T",
        "colab": {
          "base_uri": "https://localhost:8080/"
        },
        "outputId": "ffde8ab3-70a6-4692-d442-48b05b776b58"
      },
      "execution_count": 47,
      "outputs": [
        {
          "output_type": "execute_result",
          "data": {
            "text/plain": [
              "{'fit_intercept': True,\n",
              " 'copy_X': True,\n",
              " 'n_jobs': None,\n",
              " 'positive': False,\n",
              " 'feature_names_in_': array(['score_buro'], dtype=object),\n",
              " 'n_features_in_': 1,\n",
              " 'coef_': array([-15.3639206]),\n",
              " 'rank_': 1,\n",
              " 'singular_': array([713.01781912]),\n",
              " 'intercept_': 3072.209876915044}"
            ]
          },
          "metadata": {},
          "execution_count": 47
        }
      ]
    },
    {
      "cell_type": "markdown",
      "source": [
        "**7mo Modelo Matemático: y=-15.3639206x +3072.209876915044**"
      ],
      "metadata": {
        "id": "yY2qIWwftlV_"
      }
    },
    {
      "cell_type": "code",
      "source": [
        "y_pred= model.predict(X=df[[\"score_buro\"]])\n",
        "y_pred"
      ],
      "metadata": {
        "id": "I_NJFPWxtf9D",
        "colab": {
          "base_uri": "https://localhost:8080/"
        },
        "outputId": "fe65aba6-0e55-4aeb-bcd9-44084d099329"
      },
      "execution_count": 48,
      "outputs": [
        {
          "output_type": "execute_result",
          "data": {
            "text/plain": [
              "array([3072.20987692, 3072.20987692, 3072.20987692, ..., 3072.20987692,\n",
              "       3072.20987692, 3072.20987692])"
            ]
          },
          "metadata": {},
          "execution_count": 48
        }
      ]
    },
    {
      "cell_type": "code",
      "source": [
        "coef_Deter=model.score(X=Vars_Indep, y=Var_Dep)\n",
        "coef_Deter"
      ],
      "metadata": {
        "colab": {
          "base_uri": "https://localhost:8080/"
        },
        "id": "ENCwmCRgthOa",
        "outputId": "5326e3c9-427d-461a-adca-b98ee9172617"
      },
      "execution_count": 49,
      "outputs": [
        {
          "output_type": "execute_result",
          "data": {
            "text/plain": [
              "0.00438865960173207"
            ]
          },
          "metadata": {},
          "execution_count": 49
        }
      ]
    },
    {
      "cell_type": "code",
      "source": [
        "coef_Correl=np.sqrt(coef_Deter)\n",
        "coef_Correl"
      ],
      "metadata": {
        "colab": {
          "base_uri": "https://localhost:8080/"
        },
        "id": "-qnTLoAPtin8",
        "outputId": "58d76cf6-198c-44a3-d463-7ea682613586"
      },
      "execution_count": 50,
      "outputs": [
        {
          "output_type": "execute_result",
          "data": {
            "text/plain": [
              "0.06624695918857008"
            ]
          },
          "metadata": {},
          "execution_count": 50
        }
      ]
    },
    {
      "cell_type": "code",
      "source": [
        "#Declaramos las variables dependientes e independientes para la regresión lineal\n",
        "Vars_Indep= df[['score_buro']]\n",
        "Var_Dep= df['porc_enganche']\n",
        "#Se define model como la función de regresión lineal\n",
        "from sklearn.linear_model import LinearRegression\n",
        "model= LinearRegression()\n",
        "#Ajustamos el modelo con las variables antes declaradas\n",
        "model.fit(X=Vars_Indep, y=Var_Dep)\n",
        "#Verificamos los coeficientes obtenidos para el modelo ajustado\n",
        "model.__dict__"
      ],
      "metadata": {
        "id": "30o9TK0Et5Ag"
      },
      "execution_count": null,
      "outputs": []
    },
    {
      "cell_type": "markdown",
      "source": [
        "**8vo Modelo Matemático: y=-0.07220764x + 0.8455734321126249**"
      ],
      "metadata": {
        "id": "4WNhNE4K_i9D"
      }
    },
    {
      "cell_type": "code",
      "source": [
        "y_pred= model.predict(X=df[[\"score_buro\"]])\n",
        "y_pred"
      ],
      "metadata": {
        "id": "KkQN4Nue_5Ot",
        "colab": {
          "base_uri": "https://localhost:8080/"
        },
        "outputId": "78a58bee-4a0e-40c7-d2a1-e8cc6dd93481"
      },
      "execution_count": 52,
      "outputs": [
        {
          "output_type": "execute_result",
          "data": {
            "text/plain": [
              "array([0.84557343, 0.84557343, 0.84557343, ..., 0.84557343, 0.84557343,\n",
              "       0.84557343])"
            ]
          },
          "metadata": {},
          "execution_count": 52
        }
      ]
    },
    {
      "cell_type": "code",
      "source": [
        "coef_Deter=model.score(X=Vars_Indep, y=Var_Dep)\n",
        "coef_Deter"
      ],
      "metadata": {
        "colab": {
          "base_uri": "https://localhost:8080/"
        },
        "id": "mmwNBkN5_8LU",
        "outputId": "004a752a-2a2b-449a-9cc6-bd5bcf833bdc"
      },
      "execution_count": 53,
      "outputs": [
        {
          "output_type": "execute_result",
          "data": {
            "text/plain": [
              "0.002932300047172931"
            ]
          },
          "metadata": {},
          "execution_count": 53
        }
      ]
    },
    {
      "cell_type": "code",
      "source": [
        "coef_Correl=np.sqrt(coef_Deter)\n",
        "coef_Correl"
      ],
      "metadata": {
        "colab": {
          "base_uri": "https://localhost:8080/"
        },
        "id": "eeviAixn_9nr",
        "outputId": "112c3ef7-b99d-4d04-bfde-f1b01b0cbc65"
      },
      "execution_count": 54,
      "outputs": [
        {
          "output_type": "execute_result",
          "data": {
            "text/plain": [
              "0.0541507160356438"
            ]
          },
          "metadata": {},
          "execution_count": 54
        }
      ]
    }
  ]
}